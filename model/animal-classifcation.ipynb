{
 "cells": [
  {
   "cell_type": "code",
   "execution_count": 2,
   "metadata": {},
   "outputs": [],
   "source": [
    "import tensorflow as tf\n",
    "from tensorflow import keras\n",
    "import matplotlib.pyplot as plt\n",
    "from sklearn.metrics import confusion_matrix , classification_report\n",
    "import numpy as np\n",
    "import os\n",
    "import shutil\n",
    "import random"
   ]
  },
  {
   "cell_type": "code",
   "execution_count": 3,
   "metadata": {},
   "outputs": [
    {
     "name": "stdout",
     "output_type": "stream",
     "text": [
      "Image splitting complete.\n"
     ]
    }
   ],
   "source": [
    "def split_images():\n",
    "    image_dir = \"../images/\"  # Original images directory\n",
    "    test_dir = \"../images_test/\"  # Directory for 10% split\n",
    "    \n",
    "    if not os.path.exists(test_dir):\n",
    "        os.makedirs(test_dir)\n",
    "    \n",
    "    for subfolder in os.listdir(image_dir):\n",
    "        subfolder_path = os.path.join(image_dir, subfolder)\n",
    "        test_subfolder_path = os.path.join(test_dir, subfolder)\n",
    "        \n",
    "        if os.path.isdir(subfolder_path):\n",
    "            images = [f for f in os.listdir(subfolder_path) if os.path.isfile(os.path.join(subfolder_path, f))]\n",
    "            num_test_images = max(1, int(len(images) * 0.1))  # At least one image per category\n",
    "            test_images = random.sample(images, num_test_images)\n",
    "            \n",
    "            if not os.path.exists(test_subfolder_path):\n",
    "                os.makedirs(test_subfolder_path)\n",
    "            \n",
    "            for img in test_images:\n",
    "                src_path = os.path.join(subfolder_path, img)\n",
    "                dest_path = os.path.join(test_subfolder_path, img)\n",
    "                shutil.move(src_path, dest_path)\n",
    "    \n",
    "    print(\"Image splitting complete.\")\n",
    "\n",
    "# Call the function\n",
    "split_images()\n",
    "\n",
    "\n"
   ]
  }
 ],
 "metadata": {
  "language_info": {
   "name": "python"
  }
 },
 "nbformat": 4,
 "nbformat_minor": 2
}
